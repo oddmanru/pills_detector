{
  "cells": [
    {
      "cell_type": "markdown",
      "metadata": {
        "id": "view-in-github",
        "colab_type": "text"
      },
      "source": [
        "<a href=\"https://colab.research.google.com/github/oddmanru/pills_detector/blob/main/pills_detector_custom_object_detection.ipynb\" target=\"_parent\"><img src=\"https://colab.research.google.com/assets/colab-badge.svg\" alt=\"Open In Colab\"/></a>"
      ]
    },
    {
      "cell_type": "markdown",
      "source": [
        "### Pill Detector  \n",
        "This code snippet is aimed at applying the trained custom object detector based on YOLOv5 engine to identify the pills. The custom object detector was converted from .pt to .onnx format by applying the conversion script. "
      ],
      "metadata": {
        "id": "34MUmA0K-LkR"
      }
    },
    {
      "cell_type": "markdown",
      "source": [
        "### Mount MyDrive  \n",
        "It is a convenient measure that copies the stored files/scripts on Google cloud \n",
        "to local host"
      ],
      "metadata": {
        "id": "gxazB9RS9j_V"
      }
    },
    {
      "cell_type": "markdown",
      "source": [
        "### Duplicate the cv2 4.7.0-dev   \n",
        "The purpose of doing this is because the Colab needs the recompiled\n",
        "version of OpenCV to support DNN on CUDA devices."
      ],
      "metadata": {
        "id": "6MUgrSkathKe"
      }
    },
    {
      "cell_type": "code",
      "execution_count": null,
      "metadata": {
        "id": "HJvBDoxQcqGs"
      },
      "outputs": [],
      "source": [
        "# !cp drive/MyDrive/colab_modules/cv2_gpu/cv2.cpython-37m-x86_64-linux-gnu.so  /usr/lib/python3/dist-packages/cv2.cpython-37m-x86_64-linux-gnu.so\n",
        "# !cp drive/MyDrive/colab_modules/cv2_gpu/python_38/cv2.cpython-38-x86_64-linux-gnu.so ."
      ]
    },
    {
      "cell_type": "code",
      "source": [
        "# !python --version"
      ],
      "metadata": {
        "id": "6aBlL_8Lr2PE"
      },
      "execution_count": null,
      "outputs": []
    },
    {
      "cell_type": "code",
      "source": [
        "#  pip install opencv-python==4.5.5.64"
      ],
      "metadata": {
        "id": "9Jvey2igFzdM"
      },
      "execution_count": null,
      "outputs": []
    },
    {
      "cell_type": "code",
      "source": [
        "# !cd /usr/lib/python3/dist-packages"
      ],
      "metadata": {
        "id": "44HxrvvDit-1"
      },
      "execution_count": null,
      "outputs": []
    },
    {
      "cell_type": "code",
      "source": [
        "# !ls cv2.cpython-3m-x86_64-linux-gnu.so"
      ],
      "metadata": {
        "id": "OzczCvj0izNs"
      },
      "execution_count": null,
      "outputs": []
    },
    {
      "cell_type": "code",
      "source": [
        "# !mv /content/cv2.cpython-37m-x86_64-linux-gnu.so cv2.cpython-38m-x86_64-linux-gnu.so"
      ],
      "metadata": {
        "id": "84N5w1EQ2wa8"
      },
      "execution_count": null,
      "outputs": []
    },
    {
      "cell_type": "code",
      "execution_count": null,
      "metadata": {
        "colab": {
          "base_uri": "https://localhost:8080/",
          "height": 185
        },
        "id": "BcXfim8DctMK",
        "outputId": "3f906f4e-fa8e-4a42-ce23-9a949b42172e"
      },
      "outputs": [
        {
          "output_type": "execute_result",
          "data": {
            "text/plain": [
              "'4.7.0-dev'"
            ],
            "application/vnd.google.colaboratory.intrinsic+json": {
              "type": "string"
            }
          },
          "metadata": {},
          "execution_count": 7
        }
      ],
      "source": [
        "import cv2\n",
        "cv2.__version__"
      ]
    },
    {
      "cell_type": "markdown",
      "source": [
        "### Load the video clips   \n",
        "Copy the video clips which need to be detected to the yolov5_pills directory"
      ],
      "metadata": {
        "id": "VSkTuMjl_uc9"
      }
    },
    {
      "cell_type": "code",
      "source": [
        "!mkdir /content/yolov5_pills"
      ],
      "metadata": {
        "id": "iFdyPKryAAME",
        "colab": {
          "base_uri": "https://localhost:8080/"
        },
        "outputId": "78bd2210-b399-4168-f2b8-a71963356416"
      },
      "execution_count": null,
      "outputs": [
        {
          "output_type": "stream",
          "name": "stdout",
          "text": [
            "mkdir: cannot create directory ‘/content/yolov5_pills’: File exists\n"
          ]
        }
      ]
    },
    {
      "cell_type": "code",
      "source": [
        "!cp /content/drive/MyDrive/computer_vision/yolo_v5_custom_object_detection/videos/pills_2.mp4 /content/yolov5_pills"
      ],
      "metadata": {
        "id": "JUVprpv9AHJr"
      },
      "execution_count": null,
      "outputs": []
    },
    {
      "cell_type": "code",
      "source": [
        "# !cp /content/drive/MyDrive/computer_vision/yolo_v5_custom_object_detection/videos/20221214_115546.mp4 /content/yolov5_pills"
      ],
      "metadata": {
        "id": "mYcRdYlMDSH9"
      },
      "execution_count": null,
      "outputs": []
    },
    {
      "cell_type": "markdown",
      "source": [
        "### Prepare the packages needed"
      ],
      "metadata": {
        "id": "A5-X8FqEuAJm"
      }
    },
    {
      "cell_type": "code",
      "execution_count": null,
      "metadata": {
        "id": "RaKkA8LhU2ug"
      },
      "outputs": [],
      "source": [
        "import os\n",
        "os.sys.path.append(\"drive/MyDrive/custom_modules\")\n",
        "from cv_utils.delta_timer import Delta_timer\n",
        "from unpack_utils.unpack_objects import UnpackObjects\n",
        "from imutils.video import FPS\n",
        "import numpy as np\n",
        "# import cv2\n",
        "# import dlib\n",
        "import imutils\n",
        "import time\n",
        "import os\n",
        "import logging"
      ]
    },
    {
      "cell_type": "markdown",
      "source": [
        "Enable logger "
      ],
      "metadata": {
        "id": "bNisa332-Hzo"
      }
    },
    {
      "cell_type": "code",
      "source": [
        "logger = logging.getLogger(\"__name__\")\n",
        "logging.basicConfig()\n",
        "# Ctrl + M Z to redo "
      ],
      "metadata": {
        "id": "tq_0qq_GYYEB"
      },
      "execution_count": null,
      "outputs": []
    },
    {
      "cell_type": "markdown",
      "metadata": {
        "id": "ubMEd7y7BD_D"
      },
      "source": [
        "### Load classes  \n",
        "Load the classes.txt which contains the classes that this model can identify"
      ]
    },
    {
      "cell_type": "code",
      "execution_count": null,
      "metadata": {
        "colab": {
          "base_uri": "https://localhost:8080/"
        },
        "id": "FxXZcLYrA0oR",
        "outputId": "1b8eaa4d-0247-4831-a578-e2fdcd0b52fe"
      },
      "outputs": [
        {
          "output_type": "stream",
          "name": "stdout",
          "text": [
            "[testing] CLASSES length: 2\n"
          ]
        }
      ],
      "source": [
        "# Load labels\n",
        "# labelsPath= os.path.join(args['yolo'], 'coco.names')\n",
        "classPath = \"drive/MyDrive/computer_vision/yolo_v5_custom_object_detection/classes.txt\"\n",
        "CLASSES= open(classPath, 'r').read().strip().split('\\n') # Return a list\n",
        "print(f\"[testing] CLASSES length: {len(CLASSES)}\")\n",
        "\n",
        "# Create color list corresponding to the classes\n",
        "COLORS = np.random.randint(0 ,255, size=(len(CLASSES), 3), dtype='uint8')"
      ]
    },
    {
      "cell_type": "markdown",
      "metadata": {
        "id": "C6Oi0qxyBGhC"
      },
      "source": [
        "### Load pre-trained object detection model  \n",
        "Load the trained custom object detector which is able to identify pills. This pills.onnx btw, was derived the pretrained yolov5s.pt "
      ]
    },
    {
      "cell_type": "code",
      "execution_count": null,
      "metadata": {
        "colab": {
          "base_uri": "https://localhost:8080/"
        },
        "id": "WDQTNypGVIw0",
        "outputId": "3406b0ac-1988-46dc-a729-7c05cf26d31a"
      },
      "outputs": [
        {
          "output_type": "stream",
          "name": "stdout",
          "text": [
            "[INFO] loading the object detection model...\n",
            "[INFO] loading YOLOv5 model from disk...\n"
          ]
        }
      ],
      "source": [
        "\n",
        "# Load YOLOv5 custom object detection model\n",
        "print(\"[INFO] loading the object detection model...\")\n",
        "pills_path = \"drive/MyDrive/computer_vision/yolo_v5_custom_object_detection/pills.onnx\"\n",
        "\n",
        "if os.path.isfile(pills_path):\n",
        "  print('[INFO] loading YOLOv5 model from disk...')\n",
        "  yoloV5_pills= cv2.dnn.readNet(pills_path) # ATTN: order of argument is different than mask-rcnn\n",
        "  # Set up the cuda environment for yolo_v3 model\n",
        "  yoloV5_pills.setPreferableBackend(cv2.dnn.DNN_BACKEND_CUDA)\n",
        "  yoloV5_pills.setPreferableTarget(cv2.dnn.DNN_TARGET_CUDA)\n",
        "else:\n",
        "  print(\"[ALERT] model does not exist...\")\n",
        "\n",
        "# Set up the cuda environment for yolo_v3 model\n",
        "# yoloV5_pills.setPreferableBackend(cv2.dnn.DNN_BACKEND_CUDA)\n",
        "# yoloV5_pills.setPreferableTarget(cv2.dnn.DNN_TARGET_CUDA)\n"
      ]
    },
    {
      "cell_type": "code",
      "execution_count": null,
      "metadata": {
        "id": "03vqJb9DgE-K"
      },
      "outputs": [],
      "source": [
        "def blob_yoloV5(frame):\n",
        "  '''\n",
        "  This function applies a full-square sized mask\n",
        "  on the given frame and makes blob image for dnn \n",
        "  network to detect objects\n",
        "  '''\n",
        "  h, w = frame.shape[:2]\n",
        "  # Grab the maximum value of h and w\n",
        "  _max = max(h, w)\n",
        "  # Make a zeros mask\n",
        "  mask_resized = np.zeros([_max, _max, 3], dtype=\"uint8\")\n",
        "  rgb = cv2.cvtColor(frame, cv2.COLOR_BGR2RGB)\n",
        "  # copy rgb to the mask\n",
        "  mask_resized[0:h, 0:w] = rgb\n",
        "  # Obtain the image shape before fed into blob\n",
        "  resized_height, resized_width = mask_resized.shape[:2]\n",
        "\n",
        "  blob = cv2.dnn.blobFromImage(mask_resized, 1.0/255, (640, 640), swapRB=False, crop=False)\n",
        "  return resized_height, resized_width, blob\n"
      ]
    },
    {
      "cell_type": "markdown",
      "metadata": {
        "id": "t3cImVVvBLDc"
      },
      "source": [
        "### Load Video clip"
      ]
    },
    {
      "cell_type": "code",
      "source": [
        "# Load video clip\n",
        "# video_path = \"drive/MyDrive/computer_vision/mobileSSD_objects_tracking/videos/car_traffic.mp4\"\n",
        "video_path = \"/content/yolov5_pills/pills_2.mp4\"\n",
        "camera = cv2.VideoCapture(video_path)\n",
        "writer = None\n",
        "# out_path = \"drive/MyDrive/computer_vision/yolo_v5_deep_sort/out_videos/yolo5_deepsort_traffic_1024_np_itv_4_opti.mp4\"\n",
        "out_path = \"/content/yolov5_pills/pills_2_done.mp4\""
      ],
      "metadata": {
        "id": "-G3fnJMn54DW"
      },
      "execution_count": null,
      "outputs": []
    },
    {
      "cell_type": "markdown",
      "source": [
        "### Initialize variables and timers"
      ],
      "metadata": {
        "id": "8rPv96FK57O3"
      }
    },
    {
      "cell_type": "code",
      "execution_count": null,
      "metadata": {
        "id": "wV29RePrA51y"
      },
      "outputs": [],
      "source": [
        "# Initialize the unpack objects class\n",
        "yolov5_unpack = UnpackObjects(CLASSES)\n",
        "\n",
        "# Initialize the trackeres and the corresponding labels\n",
        "tracks = []\n",
        "labels = []\n",
        "idxs = []\n",
        "boxes = []\n",
        "confidences = []\n",
        "classIDs = []\n",
        "tracking_time = []\n",
        "yolo_time = []\n",
        "nms_time = []\n",
        "new_detected_objects = []\n",
        "\n",
        "\n",
        "# Interval time \n",
        "interval_time = 4\n",
        "# tracker_counter = []\n",
        "\n",
        "\n",
        "# Initialize timer for monitoring array operations\n",
        "fReader_timer = Delta_timer()\n",
        "blob_timer = Delta_timer()\n",
        "yolo_timer = Delta_timer()\n",
        "bb_finding_timer = Delta_timer() \n",
        "nms_timer = Delta_timer()\n",
        "deepSort_timer = Delta_timer()\n",
        "tracking_timer = Delta_timer()\n",
        "tk_index_timer = Delta_timer()\n",
        "index_timer = Delta_timer()\n",
        "writing_timer = Delta_timer()\n",
        "\n",
        "whole_timer = Delta_timer()"
      ]
    },
    {
      "cell_type": "code",
      "execution_count": null,
      "metadata": {
        "id": "jtQVPd_x1KF9"
      },
      "outputs": [],
      "source": [
        "# Initialize the DeepSORT tracker\n",
        "# tracker = None\n",
        "# if tracker is None:\n",
        "#   deepSort_timer.start()\n",
        "#   tracker = DeepSort(max_age=5, max_batch_size=128)\n",
        "#   deepSort_timer.stop()\n",
        "#   deepSort_timer.update()"
      ]
    },
    {
      "cell_type": "code",
      "source": [
        "# Initialze the frame rate esitmator\n",
        "fps = FPS().start()\n",
        "\n",
        "frame_cnt = 0"
      ],
      "metadata": {
        "id": "0fQJf8s5Vs_L"
      },
      "execution_count": null,
      "outputs": []
    },
    {
      "cell_type": "markdown",
      "metadata": {
        "id": "ZjWtR7UABOlq"
      },
      "source": [
        "### Main function"
      ]
    },
    {
      "cell_type": "code",
      "execution_count": null,
      "metadata": {
        "colab": {
          "base_uri": "https://localhost:8080/",
          "height": 135
        },
        "id": "rNT0TWXgKb39",
        "outputId": "ac484264-9c70-480f-b484-3ba660b81234"
      },
      "outputs": [
        {
          "output_type": "error",
          "ename": "IndentationError",
          "evalue": "ignored",
          "traceback": [
            "\u001b[0;36m  File \u001b[0;32m\"<ipython-input-20-479468436877>\"\u001b[0;36m, line \u001b[0;32m76\u001b[0m\n\u001b[0;31m    idxs= cv2.dnn.NMSBoxes(boxes, confidences, 0.45, 0.45)\u001b[0m\n\u001b[0m    ^\u001b[0m\n\u001b[0;31mIndentationError\u001b[0m\u001b[0;31m:\u001b[0m unexpected indent\n"
          ]
        }
      ],
      "source": [
        "\n",
        "while True:\n",
        "\t\n",
        "  whole_timer.start()\n",
        "\n",
        "\n",
        "  fReader_timer.start()\n",
        "  (grabbed, frame) = camera.read()\n",
        "  fReader_timer.stop()\n",
        "  fReader_timer.update()\n",
        "\n",
        "  # Check if video is at the end \n",
        "  if frame is None:\n",
        "    break\n",
        "\n",
        "  h, w = frame.shape[:2]\n",
        "  if h > w: \n",
        "    frame = imutils.resize(frame, height = 1024)\n",
        "  if w >= h:\n",
        "    frame = imutils.resize(frame, width = 1024)\n",
        "\n",
        "  # dlib tracker and dnn yolov5 need RGB order of the color channels\n",
        "  rgb = cv2.cvtColor(frame, cv2.COLOR_BGR2RGB)\n",
        "  \n",
        "  \n",
        "  # Initialize the video writer\n",
        "  if out_path is not None and writer is None:\n",
        "    print(\"[video_writer] initializing video wirter...\")\n",
        "    fourcc = cv2.VideoWriter_fourcc(*'mp4v')\n",
        "    print(f\"[video_writer] {out_path}\")\n",
        "    writer = cv2.VideoWriter(out_path, fourcc, 30, (frame.shape[1], frame.shape[0]), True)\n",
        "  \n",
        "\n",
        "  # Prepare the input data before fed into the YOLOv5 model\n",
        "  # blob_yolov5 function returns three scalar, i.e resized height, resized width and the \n",
        "  # blob that is going to be fed into the detector\n",
        "  blob_timer.start()\n",
        "  resized_height, resized_width, blob = blob_yoloV5(frame)\n",
        "  yoloV5_pills.setInput(blob)\n",
        "  blob_timer.stop()\n",
        "  blob_timer.update()\n",
        "\n",
        "  # YOLOv5 returns the real bboxes coords\n",
        "  width_ratio = resized_width / 640\n",
        "  height_ratio = resized_height / 640\n",
        "\n",
        "  # Make the inference\n",
        "\n",
        "  # (boxes, masks)= yoloV3.forward(['detection_out_final', 'detection_masks'])\n",
        "  yolo_timer.start()\n",
        "  layerOutputs= yoloV5_pills.forward()\n",
        "  yolo_timer.stop()\n",
        "  yolo_timer.update()\n",
        "\n",
        "  # Return the candidates of bboxes\n",
        "  # Loop over each of output layer\n",
        "  # print(f\"[yolov5 feedforward] layerOutputs shape: {layerOutputs.shape}\")\n",
        "  # print(f\"[yolov5 feedforward] layerOutputs shape[0]: {layerOutputs.shape[0]}\")\n",
        "  # the shape of layerOutputs is 1 x 25200 x 85.\n",
        "  detected_objects = layerOutputs[0]\n",
        "\n",
        "\n",
        "  bb_finding_timer.start()\n",
        "  boxes, confidences, classIDs = yolov5_unpack.unpack_numpy(detected_objects)\n",
        "  bb_finding_timer.stop()\n",
        "  bb_finding_timer.update()\n",
        "\n",
        "  # apply non-maxima suppression to suppress weak, overlapping bounding\n",
        "  # boxes. The cv's NMS takes trX, trY, and its w and h\n",
        "  # confidence == 0.5, NMS thresh == 0.3\n",
        "  # idxs= cv2.dnn.NMSBoxes(boxes, confidences, 0.5, 0.3)\n",
        "  nms_timer.start()\n",
        "\n",
        "  # YOLOv5 has different NMS box arguments than YOLO v4\n",
        "  # idxs= cv2.dnn.NMSBoxes(boxes, confidences, 0.5, 0.4)\n",
        "  # idxs= cv2.dnn.NMSBoxes(boxes, confidences, 0.25, 0.45)\n",
        "   idxs= cv2.dnn.NMSBoxes(boxes, confidences, 0.45, 0.45)\n",
        "  nms_timer.stop()\n",
        "  nms_timer.update()\n",
        "\n",
        "  # index_timer.start()\n",
        "  if len(idxs) > 0:\n",
        "\n",
        "    index_timer.start()\n",
        "    '''\n",
        "    We need to create a new detection object here that contains\n",
        "    bbs, confidence, and the detection classes ID to feed into \n",
        "    the new DeepSORT tracker in order to create a new tracking object \n",
        "    matrix\n",
        "    The same format but the accurate ones that were done after NMS. \n",
        "    boxes, confidences, classIDs = yolov5_unpack.unpack_numpy(detected_objects) \n",
        "\n",
        "    # List of detections, each in tuples of ( [left,top,w,h] , confidence, detection_class)\n",
        "    '''\n",
        "\n",
        "    # Tracking these objects and draw the bboxes \n",
        "    for i, idx in enumerate(idxs.flatten()):\n",
        "      # Obtain the final box in boxes that stores al the possible boxes\n",
        "      (tlX, tlY)= (boxes[idx][0], boxes[idx][1])\n",
        "      # ATTN! w, h here is the width and height of ROI boxes \n",
        "      (w, h )= (boxes[idx][2], boxes[idx][3])\n",
        "      # Draw a color from COLOR array and concert it to list\n",
        "      color= [int(c) for c in COLORS[classIDs[idx]]]\n",
        "      # print(f\"[INFO] color: {color}\")\n",
        "\n",
        "      # Align with the convention of dlib correlation tracker which \n",
        "      # takes tlX, tlY, brX, brY\n",
        "      brX = tlX + w\n",
        "      brY = tlY + h\n",
        "     \n",
        "      # Update the trackers and labels list\n",
        "      # label = CLASSES[new_classIDs[i]]\n",
        "      label = CLASSES[classIDs[idx]]\n",
        "      labels.append(label)\n",
        "\n",
        "      # Draw bounding box using the current coords \n",
        "      cv2.rectangle(frame, (tlX, tlY), (brX, brY), (0,255,0), 1)\n",
        "      # Draw the title box\n",
        "      t_width = int((brX - tlX)/2)\n",
        "      cv2.rectangle(frame, (tlX, tlY-30), (tlX+t_width, tlY-5), color, -1)\n",
        "      cv2.putText(frame, f\"OD_{label}: #{i}\", (tlX, tlY-10), cv2.FONT_HERSHEY_SIMPLEX, 0.55, (255,255,255), 1)\n",
        "\n",
        "    # # frame? rgb? \n",
        "    # tracks = tracker.update_tracks(new_detected_objects, frame=rgb)\n",
        "    \n",
        "    # Index timer\n",
        "    index_timer.stop()\n",
        "    index_timer.update()\n",
        "\n",
        "  writing_timer.start()\n",
        "  writer.write(frame)\n",
        "  writing_timer.stop()\n",
        "  writing_timer.update()\n",
        "\n",
        "  fps.update()\n",
        "\n",
        "  whole_timer.stop()\n",
        "  whole_timer.update()"
      ]
    },
    {
      "cell_type": "code",
      "source": [
        "fps.stop()"
      ],
      "metadata": {
        "id": "ewQu6YBjW4Sr"
      },
      "execution_count": null,
      "outputs": []
    },
    {
      "cell_type": "markdown",
      "source": [
        "### Create reports"
      ],
      "metadata": {
        "id": "YP6UuATzfN7V"
      }
    },
    {
      "cell_type": "code",
      "execution_count": null,
      "metadata": {
        "id": "MsWvAiNxc-1V"
      },
      "outputs": [],
      "source": [
        "print(f\"[INFO] elapsed time: {fps.elapsed():.2f}\")\n",
        "print(f\"[INFO] approx FPS: {fps.fps():.2f}\")\n",
        "print(\"----------------------------\")\n",
        "\n",
        "print(\"[INFO] cleaning up...\")\n",
        "writer.release()\n",
        "camera.release()\n",
        "\n",
        "# Report on timers\n",
        "fReader_report = fReader_timer.report(\"reading frame\")\n",
        "blob_report = blob_timer.report(\"blob transformer\")\n",
        "yolo_report = yolo_timer.report(\"yolo inference\")\n",
        "bb_finding_report = bb_finding_timer.report(\"unpack yolo\")\n",
        "nms_report = nms_timer.report(\"NMS\")\n",
        "# deepSort_report = deepSort_timer.report(\"DeepSORT intialization\")\n",
        "# tracking_report = tracking_timer.report(\"deepsort tracker\")\n",
        "# tk_indexing_report = tk_index_timer.report(\"tracker indexing\")\n",
        "index_report = index_timer.report(\"yolo indexing\")\n",
        "writing_report = writing_timer.report(\"writing frame\")\n",
        "whole_report = whole_timer.report(\"whole time\")"
      ]
    },
    {
      "cell_type": "code",
      "source": [
        "accum_time = fReader_timer.delta_sum + blob_timer.delta_sum + yolo_timer.delta_sum + bb_finding_timer.delta_sum + nms_timer.delta_sum + index_timer.delta_sum + writing_timer.delta_sum \n",
        "print(f\"[accumulated time] : {accum_time:.4f}s\")"
      ],
      "metadata": {
        "id": "Ex9iGKOmyv2n"
      },
      "execution_count": null,
      "outputs": []
    },
    {
      "cell_type": "code",
      "execution_count": null,
      "metadata": {
        "id": "JSslkv4ZUE4J"
      },
      "outputs": [],
      "source": [
        "fps._numFrames"
      ]
    },
    {
      "cell_type": "markdown",
      "source": [
        "### Duplicate the artifest"
      ],
      "metadata": {
        "id": "rPSsbzV8fVMc"
      }
    },
    {
      "cell_type": "code",
      "source": [
        "!cp /content/yolov5_pills/pills_1_done.mp4 /content/drive/MyDrive/computer_vision/yolo_v5_custom_object_detection/out_videos"
      ],
      "metadata": {
        "id": "-FUQM4TbObmU"
      },
      "execution_count": null,
      "outputs": []
    }
  ],
  "metadata": {
    "accelerator": "GPU",
    "colab": {
      "provenance": [],
      "toc_visible": true,
      "mount_file_id": "166gPlKEqITtR8hC3phbDeakFv1FGjgpV",
      "authorship_tag": "ABX9TyOU5vXXeryg17kZoOz0hXRD",
      "include_colab_link": true
    },
    "gpuClass": "standard",
    "kernelspec": {
      "display_name": "Python 3",
      "name": "python3"
    },
    "language_info": {
      "name": "python"
    }
  },
  "nbformat": 4,
  "nbformat_minor": 0
}